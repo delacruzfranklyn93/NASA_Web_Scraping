{
 "cells": [
  {
   "cell_type": "code",
   "execution_count": 70,
   "id": "bored-liquid",
   "metadata": {},
   "outputs": [],
   "source": [
    "from bs4 import BeautifulSoup as bs\n",
    "import requests\n",
    "import pymongo\n",
    "from webdriver_manager.chrome import ChromeDriverManager\n",
    "from splinter import Browser\n",
    "import pandas as pd"
   ]
  },
  {
   "cell_type": "code",
   "execution_count": 71,
   "id": "metallic-examination",
   "metadata": {},
   "outputs": [],
   "source": [
    "# URL of page to be scraped\n",
    "url = 'https://mars.nasa.gov/news/'\n",
    "\n",
    "browser.visit(url)\n",
    "\n",
    "#retrieve the page with the requests module\n",
    "response = browser.html\n",
    "\n",
    "#create a BeautifulSoup object; parse with 'html parser'\n",
    "soup = bs(response, 'html.parser')\n",
    "news_title = soup.find_all('div', class_ = 'content_title')[1].text.strip()\n",
    "news_p = soup.find_all('div', class_ = 'article_teaser_body')[0].text.strip()"
   ]
  },
  {
   "cell_type": "code",
   "execution_count": 72,
   "id": "israeli-course",
   "metadata": {},
   "outputs": [
    {
     "name": "stderr",
     "output_type": "stream",
     "text": [
      "[WDM] - ====== WebDriver manager ======\n",
      "[WDM] - Current google-chrome version is 89.0.4389\n",
      "[WDM] - Get LATEST driver version for 89.0.4389\n",
      "[WDM] - Driver [C:\\Users\\delac\\.wdm\\drivers\\chromedriver\\win32\\89.0.4389.23\\chromedriver.exe] found in cache\n"
     ]
    },
    {
     "name": "stdout",
     "output_type": "stream",
     "text": [
      "\n",
      "\n"
     ]
    }
   ],
   "source": [
    "#setup splinter\n",
    "executable_path = {'executable_path': ChromeDriverManager().install()}\n",
    "browser = Browser('chrome', **executable_path, headless=False)\n",
    "\n",
    "#setup url\n",
    "url1 = 'https://data-class-jpl-space.s3.amazonaws.com/JPL_Space/index.html'\n"
   ]
  },
  {
   "cell_type": "code",
   "execution_count": 73,
   "id": "certain-reservoir",
   "metadata": {},
   "outputs": [],
   "source": [
    "# Visit URL using browser\n",
    "browser.visit(url1)\n",
    "\n",
    "# Use splinter to click into featured image to retrieve the image url\n",
    "browser.links.find_by_partial_text('FULL IMAGE').click()\n",
    "\n",
    "#set variable to this html to use soup and find end path for image\n",
    "html = browser.html\n",
    "\n",
    "# create soup object\n",
    "soup_featured = bs(html, 'html.parser')\n",
    "\n",
    "# retrieve the end_path and concatenate with the orginal url\n",
    "end_path = soup_featured.find_all('img', class_='fancybox-image')[0]['src']\n",
    "featured_image_url = url + end_path"
   ]
  },
  {
   "cell_type": "code",
   "execution_count": 74,
   "id": "operational-double",
   "metadata": {},
   "outputs": [],
   "source": [
    "# create URL for scraping\n",
    "url2 = 'https://space-facts.com/mars/'\n",
    "\n",
    "# create table\n",
    "tables = pd.read_html(url2)[0]\n",
    "\n",
    "tables.columns = ['description', 'mars']\n",
    "table_html = tables.to_html(index = False)"
   ]
  },
  {
   "cell_type": "code",
   "execution_count": 75,
   "id": "honey-phase",
   "metadata": {},
   "outputs": [],
   "source": [
    "url3 = 'https://astrogeology.usgs.gov/search/results?q=hemisphere+enhanced&k1=target&v1=Mars'\n",
    "# Visit URL using browser\n",
    "browser.visit(url3)\n",
    "\n",
    "# Use splinter to click into featured image to retrieve the image url\n",
    "browser.find_by_css('a.product-item img').click()\n",
    "\n",
    "#set variable to this html to use soup and find end path for image\n",
    "html1 = browser.html\n",
    "\n",
    "# create soup object\n",
    "soup_images = bs(html1, 'html.parser')\n",
    "\n",
    "# retrieve the end_path and concatenate with the orginal url\n",
    "images = soup_images.find_all('div', class_ = 'downloads')[0].find('a')['href']"
   ]
  },
  {
   "cell_type": "code",
   "execution_count": 76,
   "id": "radio-estimate",
   "metadata": {},
   "outputs": [
    {
     "data": {
      "text/plain": [
       "'https://astropedia.astrogeology.usgs.gov/download/Mars/Viking/cerberus_enhanced.tif/full.jpg'"
      ]
     },
     "execution_count": 76,
     "metadata": {},
     "output_type": "execute_result"
    }
   ],
   "source": [
    "images"
   ]
  },
  {
   "cell_type": "code",
   "execution_count": null,
   "id": "significant-conditioning",
   "metadata": {},
   "outputs": [],
   "source": []
  }
 ],
 "metadata": {
  "kernelspec": {
   "display_name": "PythonData",
   "language": "python",
   "name": "pythondata"
  },
  "language_info": {
   "codemirror_mode": {
    "name": "ipython",
    "version": 3
   },
   "file_extension": ".py",
   "mimetype": "text/x-python",
   "name": "python",
   "nbconvert_exporter": "python",
   "pygments_lexer": "ipython3",
   "version": "3.6.12"
  }
 },
 "nbformat": 4,
 "nbformat_minor": 5
}
