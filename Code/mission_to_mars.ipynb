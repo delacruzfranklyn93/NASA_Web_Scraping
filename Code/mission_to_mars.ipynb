{
 "cells": [
  {
   "cell_type": "code",
   "execution_count": 1,
   "id": "infrared-circus",
   "metadata": {},
   "outputs": [],
   "source": [
    "from bs4 import BeautifulSoup as bs\n",
    "import requests\n",
    "import pymongo\n",
    "from webdriver_manager.chrome import ChromeDriverManager\n",
    "from splinter import Browser\n",
    "import pandas as pd"
   ]
  },
  {
   "cell_type": "code",
   "execution_count": 2,
   "id": "empirical-architecture",
   "metadata": {},
   "outputs": [
    {
     "name": "stderr",
     "output_type": "stream",
     "text": [
      "[WDM] - ====== WebDriver manager ======\n",
      "[WDM] - Current google-chrome version is 89.0.4389\n",
      "[WDM] - Get LATEST driver version for 89.0.4389\n"
     ]
    },
    {
     "name": "stdout",
     "output_type": "stream",
     "text": [
      "\n",
      "\n"
     ]
    },
    {
     "name": "stderr",
     "output_type": "stream",
     "text": [
      "[WDM] - Driver [C:\\Users\\delac\\.wdm\\drivers\\chromedriver\\win32\\89.0.4389.23\\chromedriver.exe] found in cache\n"
     ]
    }
   ],
   "source": [
    "#setup splinter\n",
    "executable_path = {'executable_path': ChromeDriverManager().install()}\n",
    "browser = Browser('chrome', **executable_path, headless=False)\n"
   ]
  },
  {
   "cell_type": "code",
   "execution_count": 3,
   "id": "parliamentary-answer",
   "metadata": {},
   "outputs": [],
   "source": [
    "# URL of page to be scraped\n",
    "url = 'https://mars.nasa.gov/news/'\n",
    "\n",
    "browser.visit(url)\n",
    "\n",
    "#retrieve the page with the requests module\n",
    "response = browser.html\n",
    "\n",
    "#create a BeautifulSoup object; parse with 'html parser'\n",
    "soup = bs(response, 'html.parser')\n",
    "\n",
    "news_p = None\n",
    "news_title = None\n",
    "\n",
    "while (news_p == None) or (news_title == None):\n",
    "    try:\n",
    "        news_title = soup.find_all('div', class_ = 'content_title')[1].text.strip()\n",
    "        news_p = soup.find_all('div', class_ = 'article_teaser_body')[0].text.strip()\n",
    "    except:\n",
    "        pass"
   ]
  },
  {
   "cell_type": "code",
   "execution_count": 4,
   "id": "brown-holocaust",
   "metadata": {},
   "outputs": [],
   "source": [
    "# Visit URL using browser\n",
    "url1 = 'https://data-class-jpl-space.s3.amazonaws.com/JPL_Space/index.html'\n",
    "browser.visit(url1)\n",
    "\n",
    "# Use splinter to click into featured image to retrieve the image url\n",
    "browser.links.find_by_partial_text('FULL IMAGE').click()\n",
    "\n",
    "#set variable to this html to use soup and find end path for image\n",
    "html = browser.html\n",
    "\n",
    "# create soup object\n",
    "soup_featured = bs(html, 'html.parser')\n",
    "\n",
    "# retrieve the end_path and concatenate with the orginal url\n",
    "url_first = 'https://data-class-jpl-space.s3.amazonaws.com/JPL_Space/'\n",
    "\n",
    "\n",
    "end_path = None\n",
    "while end_path == None:\n",
    "    try:\n",
    "        end_path = soup_featured.find('img', class_='fancybox-image').get('src')\n",
    "    except:\n",
    "        pass\n",
    "featured_image_url = url_first + end_path"
   ]
  },
  {
   "cell_type": "code",
   "execution_count": 5,
   "id": "funny-addiction",
   "metadata": {},
   "outputs": [],
   "source": [
    "# create URL for scraping\n",
    "url2 = 'https://space-facts.com/mars/'\n",
    "\n",
    "# create table\n",
    "tables = pd.read_html(url2)[0]\n",
    "\n",
    "tables.columns = ['description', 'mars']\n",
    "table_html = tables.to_html(index = False)"
   ]
  },
  {
   "cell_type": "code",
   "execution_count": 6,
   "id": "complimentary-sociology",
   "metadata": {},
   "outputs": [],
   "source": [
    "url3 = 'https://astrogeology.usgs.gov/search/results?q=hemisphere+enhanced&k1=target&v1=Mars'\n",
    "hemisphere_image_urls = []\n",
    "for x in range(4):\n",
    "    \n",
    "        # Visit URL using browser\n",
    "        browser.visit(url3)\n",
    "\n",
    "        # Use splinter to click into featured image to retrieve the image url\n",
    "        browser.find_by_css('a.product-item img')[x].click()\n",
    "\n",
    "        #set variable to this html to use soup and find end path for image\n",
    "        html1 = browser.html\n",
    "\n",
    "        # create soup object\n",
    "        soup_images = bs(html1, 'html.parser')\n",
    "        title = None\n",
    "        link = None\n",
    "\n",
    "        while (title == None) or (link == None):\n",
    "            try:\n",
    "                title = soup_images.find_all('h2', class_ = 'title')[0].text\n",
    "                link = soup_images.find_all('div', class_ = 'downloads')[0].find('a')['href']\n",
    "            except:\n",
    "                pass\n",
    "\n",
    "        # retrieve the end_path and concatenate with the orginal url\n",
    "        hemisphere_image_urls.append({'title':title, 'img_url': link})\n",
    "       \n",
    "        browser.back()"
   ]
  },
  {
   "cell_type": "code",
   "execution_count": 7,
   "id": "boolean-russia",
   "metadata": {},
   "outputs": [],
   "source": [
    "# Combine all the the information gathered into one dictrionary to return\n",
    "mars_data = hemisphere_image_urls\n",
    "mars_data.append({'news_title':news_title})\n",
    "mars_data.append({'news_p' :news_p })\n",
    "mars_data.append({'featured_image_url' : featured_image_url})\n",
    "mars_data.append({\"mars_facts\": table_html})"
   ]
  },
  {
   "cell_type": "code",
   "execution_count": 8,
   "id": "hollywood-installation",
   "metadata": {},
   "outputs": [],
   "source": [
    "browser.quit()"
   ]
  },
  {
   "cell_type": "code",
   "execution_count": null,
   "id": "tender-crisis",
   "metadata": {},
   "outputs": [],
   "source": []
  }
 ],
 "metadata": {
  "kernelspec": {
   "display_name": "PythonData",
   "language": "python",
   "name": "pythondata"
  },
  "language_info": {
   "codemirror_mode": {
    "name": "ipython",
    "version": 3
   },
   "file_extension": ".py",
   "mimetype": "text/x-python",
   "name": "python",
   "nbconvert_exporter": "python",
   "pygments_lexer": "ipython3",
   "version": "3.6.12"
  }
 },
 "nbformat": 4,
 "nbformat_minor": 5
}
